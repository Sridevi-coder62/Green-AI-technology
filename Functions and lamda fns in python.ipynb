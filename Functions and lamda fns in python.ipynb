{
 "cells": [
  {
   "cell_type": "code",
   "execution_count": 1,
   "id": "1dad11ac-971e-48cb-8f97-7dd4bc09b395",
   "metadata": {},
   "outputs": [],
   "source": [
    "#calculation of carbon footprint\n",
    "\n",
    "def calculate_carbon_footprint(energy_consumption, emission_factor):\n",
    "    return energy_consumption*emission_factor"
   ]
  },
  {
   "cell_type": "markdown",
   "id": "5fafddeb-35e9-4cb3-93a4-f9cdde89e05a",
   "metadata": {},
   "source": [
    "## Implementation of the Carbon footprint calculation Function"
   ]
  },
  {
   "cell_type": "code",
   "execution_count": 2,
   "id": "7b2c918e-b2c8-4dfc-bef6-7c7d865f3e4a",
   "metadata": {},
   "outputs": [
    {
     "name": "stdout",
     "output_type": "stream",
     "text": [
      "Carbon Footprint is : 475.0 kg CO2\n"
     ]
    }
   ],
   "source": [
    "energy_consumption=1000\n",
    "emission_factor=0.475\n",
    "\n",
    "carbon_footprint = calculate_carbon_footprint(energy_consumption,emission_factor)\n",
    "print(f\"Carbon Footprint is : {carbon_footprint} kg CO2\")"
   ]
  },
  {
   "cell_type": "code",
   "execution_count": 3,
   "id": "08986748-c4a1-46f4-81c9-2c907878c3bd",
   "metadata": {},
   "outputs": [
    {
     "name": "stdout",
     "output_type": "stream",
     "text": [
      "Sustainable Cities:\n",
      "City B\n",
      "City D\n"
     ]
    }
   ],
   "source": [
    "# Create a dataset of cities having carbon footprint using lambda functions\n",
    "\n",
    "cities = [\n",
    "    {\"name\": \"City A\", \"carbon_footprint\": 500},\n",
    "     {\"name\": \"City B\", \"carbon_footprint\": 350},\n",
    "     {\"name\": \"City C\", \"carbon_footprint\": 600},\n",
    "     {\"name\": \"City D\", \"carbon_footprint\": 200},\n",
    "]\n",
    "\n",
    "#lamba functon to filter cities below the threshold(400 ton co2)\n",
    "sustainability_threshold=400\n",
    "sustainability_cities = list(filter(lambda city:city[\"carbon_footprint\"]< sustainability_threshold, cities))\n",
    "\n",
    "#print the filtered list..\n",
    "print(\"Sustainable Cities:\")\n",
    "for city in sustainability_cities:\n",
    "    print(city[\"name\"])"
   ]
  },
  {
   "cell_type": "code",
   "execution_count": null,
   "id": "f0ade535-2c94-4a22-b24b-752895f39365",
   "metadata": {},
   "outputs": [],
   "source": []
  }
 ],
 "metadata": {
  "kernelspec": {
   "display_name": "Python 3 (ipykernel)",
   "language": "python",
   "name": "python3"
  },
  "language_info": {
   "codemirror_mode": {
    "name": "ipython",
    "version": 3
   },
   "file_extension": ".py",
   "mimetype": "text/x-python",
   "name": "python",
   "nbconvert_exporter": "python",
   "pygments_lexer": "ipython3",
   "version": "3.11.4"
  }
 },
 "nbformat": 4,
 "nbformat_minor": 5
}
