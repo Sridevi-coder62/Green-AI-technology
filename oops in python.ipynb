{
 "cells": [
  {
   "cell_type": "code",
   "execution_count": 3,
   "id": "dc3e3f5b-6c11-4612-93a2-a924dfbca5ed",
   "metadata": {},
   "outputs": [
    {
     "name": "stdout",
     "output_type": "stream",
     "text": [
      "Building A: 5000 kWh, 0.45 kg CO2/kWh\n"
     ]
    }
   ],
   "source": [
    "\n",
    "\n",
    "# Define the EnergySystem class\n",
    "class EnergySystem:\n",
    "    def __init__(self, building_name, energy_consumption, emission_factor):\n",
    "        # Initialize attributes\n",
    "        self.building_name = building_name\n",
    "        self.energy_consumption = energy_consumption # in kWh\n",
    "        self.emission_factor = emission_factor # kg CO2 per kWh\n",
    "\n",
    "# Example usage:\n",
    "building = EnergySystem(\"Building A\", 5000, 0.45)\n",
    "print(f\"{building.building_name}: {building.energy_consumption} kWh, {building.emission_factor} kg CO2/kWh\")\n",
    "\n",
    "        "
   ]
  },
  {
   "cell_type": "code",
   "execution_count": 8,
   "id": "6f4158f4-6981-44ac-ac0d-3881f48210e9",
   "metadata": {},
   "outputs": [
    {
     "name": "stdout",
     "output_type": "stream",
     "text": [
      "Carbon Footprint: 2250.0 kg CO2\n",
      "Energy Savings: 500.0 kWh\n"
     ]
    }
   ],
   "source": [
    "# Define the EnergySystem class\n",
    "class EnergySystem:\n",
    "    def __init__(self, building_name, energy_consumption, emission_factor):\n",
    "        # Initialize attributes\n",
    "        self.building_name = building_name\n",
    "        self.energy_consumption = energy_consumption  # in kWh\n",
    "        self.emission_factor = emission_factor        # kg CO2 per kWh\n",
    "\n",
    "    # Method to calculate carbon footprint\n",
    "    def calculate_carbon_footprint(self):\n",
    "        return self.energy_consumption * self.emission_factor\n",
    "\n",
    "    # Method to calculate energy savings (10%)\n",
    "    def calculate_energy_savings(self):\n",
    "        return self.energy_consumption * 0.10\n",
    "\n",
    "\n",
    "# Example usage\n",
    "building = EnergySystem(\"Building A\", 5000, 0.45)\n",
    "carbon_footprint = building.calculate_carbon_footprint()\n",
    "energy_savings = building.calculate_energy_savings()\n",
    "\n",
    "print(f\"Carbon Footprint: {carbon_footprint} kg CO2\")\n",
    "print(f\"Energy Savings: {energy_savings} kWh\")\n"
   ]
  },
  {
   "cell_type": "code",
   "execution_count": 9,
   "id": "dd889224-c261-4b9e-92e8-72c2a3cdace6",
   "metadata": {},
   "outputs": [
    {
     "name": "stdout",
     "output_type": "stream",
     "text": [
      "Net Energy Consumption: 3500 kWh\n"
     ]
    }
   ],
   "source": [
    "# Subclass SolarEnergySystem inheriting from EnergySystem\n",
    "class SolarEnergySystem(EnergySystem):\n",
    "    def __init__(self, building_name, energy_consumption, emission_factor,\n",
    "                 solar_production):\n",
    "        # Inherit attributes from the parent class\n",
    "        super().__init__(building_name, energy_consumption, emission_factor)\n",
    "        self.solar_production = solar_production # energy produced by solar panels in kWh\n",
    "    \n",
    "    # Method to calculate net energy consumption (energy used - solar energy produced)\n",
    "    def net_energy_consumption(self):\n",
    "        return self.energy_consumption - self.solar_production\n",
    "\n",
    "# Example usage:\n",
    "solar_building = SolarEnergySystem(\"Solar Building\", 5000, 0.45, 1500)\n",
    "net_consumption = solar_building.net_energy_consumption()\n",
    "\n",
    "print(f\"Net Energy Consumption: {net_consumption} kWh\")"
   ]
  },
  {
   "cell_type": "code",
   "execution_count": 12,
   "id": "ad7f9c5b-3da0-4c9b-aba8-012b2b856253",
   "metadata": {},
   "outputs": [
    {
     "name": "stdout",
     "output_type": "stream",
     "text": [
      "Energy Consumption (accessed via method): 5000 kWh\n"
     ]
    }
   ],
   "source": [
    "# Define the EnergySystem class\n",
    "class EnergySystem:\n",
    "    def __init__(self, building_name, energy_consumption, emission_factor):\n",
    "        # Initialize attributes\n",
    "        self._building_name = building_name\n",
    "        self._energy_consumption = energy_consumption  # in kWh\n",
    "        self._emission_factor = emission_factor        # kg CO2 per kWh\n",
    "\n",
    "    # Method to access energy consumption safely\n",
    "    def get_energy_consumption(self):\n",
    "        return self._energy_consumption\n",
    "\n",
    "    # Method to calculate carbon footprint\n",
    "    def calculate_carbon_footprint(self):\n",
    "        return self._energy_consumption * self._emission_factor\n",
    "\n",
    "# Example usage\n",
    "building = EnergySystem(\"Building A\", 5000, 0.45)\n",
    "print(f\"Energy Consumption (accessed via method): {building.get_energy_consumption()} kWh\")\n"
   ]
  },
  {
   "cell_type": "code",
   "execution_count": 13,
   "id": "80c2e4a9-a7d0-4e82-9bd7-e6d970f7a0ed",
   "metadata": {},
   "outputs": [
    {
     "name": "stdout",
     "output_type": "stream",
     "text": [
      "Adjusted Carbon Footprint (after solar production): 1575.00 kg CO2\n"
     ]
    }
   ],
   "source": [
    "# Subclass SolarEnergySystem overriding the carbon footprint method\n",
    "class SolarEnergySystem(EnergySystem):\n",
    "    def __init__(self, building_name, energy_consumption, emission_factor, \n",
    "                 solar_production):\n",
    "        # Call the parent class constructor to initialize inherited attributes\n",
    "        super().__init__(building_name, energy_consumption, emission_factor)\n",
    "        self.solar_production = solar_production # new attribute for solar energy production\n",
    "    \n",
    "    # Overriding the carbon footprint method to account for solar production\n",
    "    def calculate_carbon_footprint(self):\n",
    "        # Access energy consumption from the parent class (inherited attribute)\n",
    "        net_consumption = self._energy_consumption - self.solar_production\n",
    "        return net_consumption * self._emission_factor\n",
    "\n",
    "# Example usage:\n",
    "solar_building = SolarEnergySystem(\"Solar Building\", 5000, 0.45, 1500)\n",
    "carbon_footprint = solar_building.calculate_carbon_footprint()\n",
    "\n",
    "print(f\"Adjusted Carbon Footprint (after solar production): {carbon_footprint:.2f} kg CO2\")"
   ]
  },
  {
   "cell_type": "code",
   "execution_count": null,
   "id": "532c7445-30ed-483a-999b-67494033b620",
   "metadata": {},
   "outputs": [],
   "source": []
  }
 ],
 "metadata": {
  "kernelspec": {
   "display_name": "Python 3 (ipykernel)",
   "language": "python",
   "name": "python3"
  },
  "language_info": {
   "codemirror_mode": {
    "name": "ipython",
    "version": 3
   },
   "file_extension": ".py",
   "mimetype": "text/x-python",
   "name": "python",
   "nbconvert_exporter": "python",
   "pygments_lexer": "ipython3",
   "version": "3.11.4"
  }
 },
 "nbformat": 4,
 "nbformat_minor": 5
}
