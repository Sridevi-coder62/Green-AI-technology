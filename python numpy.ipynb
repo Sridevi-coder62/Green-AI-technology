{
 "cells": [
  {
   "cell_type": "code",
   "execution_count": 1,
   "id": "12f00c1b-79d6-4145-bdcd-0e81602b321d",
   "metadata": {},
   "outputs": [
    {
     "name": "stdout",
     "output_type": "stream",
     "text": [
      "Requirement already satisfied: numpy in c:\\users\\acer\\appdata\\local\\programs\\python\\python311\\lib\\site-packages (2.3.0)\n",
      "Note: you may need to restart the kernel to use updated packages.\n"
     ]
    }
   ],
   "source": [
    "pip install numpy"
   ]
  },
  {
   "cell_type": "code",
   "execution_count": 2,
   "id": "864527cd-be3b-4b2a-bd82-60da6954cf62",
   "metadata": {},
   "outputs": [
    {
     "name": "stdout",
     "output_type": "stream",
     "text": [
      "Energy Consumption (in MWh) for different Renewable Sources: \n",
      "[1200 3400 2900 1800 2500]\n"
     ]
    }
   ],
   "source": [
    "#example 1\n",
    "import numpy as np\n",
    "#energy consumption in MWH for diff renewable sources: Solar, Wind, Hydropower, Geothermal, Biomass\n",
    "energy_consumption = np.array([1200,3400,2900,1800,2500])\n",
    "#print the array\n",
    "print(\"Energy Consumption (in MWh) for different Renewable Sources: \")\n",
    "print(energy_consumption)"
   ]
  },
  {
   "cell_type": "code",
   "execution_count": 3,
   "id": "fc5684d6-4a13-497d-ba29-e74f9fba2eb6",
   "metadata": {},
   "outputs": [
    {
     "name": "stdout",
     "output_type": "stream",
     "text": [
      "\n",
      "Total Energy Consumption: 11800 MWh\n"
     ]
    }
   ],
   "source": [
    "#Calculate the total energy consumption\n",
    "total_consumption = np.sum(energy_consumption)\n",
    "\n",
    "print(f\"\\nTotal Energy Consumption: {total_consumption} MWh\")"
   ]
  },
  {
   "cell_type": "code",
   "execution_count": 4,
   "id": "5635f3ac-84ad-4834-bef9-dd92cfe9160d",
   "metadata": {},
   "outputs": [
    {
     "name": "stdout",
     "output_type": "stream",
     "text": [
      "\n",
      "Mean Energy Consumption :  2360.00 MWh\n"
     ]
    }
   ],
   "source": [
    "#calculate the mean energy consumption\n",
    "mean_consumption = np.mean(energy_consumption)\n",
    "print(f\"\\nMean Energy Consumption : {mean_consumption: .2f} MWh\")"
   ]
  },
  {
   "cell_type": "code",
   "execution_count": 5,
   "id": "49b662a0-9417-49de-be6f-122c176cb0a7",
   "metadata": {},
   "outputs": [
    {
     "name": "stdout",
     "output_type": "stream",
     "text": [
      "\n",
      "Standard Deviation of Energy Consumption:  781.28 MWh\n"
     ]
    }
   ],
   "source": [
    "#calculate standard deviation of energy consumption\n",
    "\n",
    "std_deviation = np.std(energy_consumption)\n",
    "print(f\"\\nStandard Deviation of Energy Consumption: {std_deviation: .2f} MWh\")"
   ]
  },
  {
   "cell_type": "code",
   "execution_count": 6,
   "id": "b9e01b27-580d-4932-b76d-28a21dcbf008",
   "metadata": {},
   "outputs": [
    {
     "name": "stdout",
     "output_type": "stream",
     "text": [
      "\n",
      "Reshaped Energy Consumption Array (5x1): \n",
      "[[1200]\n",
      " [3400]\n",
      " [2900]\n",
      " [1800]\n",
      " [2500]]\n"
     ]
    }
   ],
   "source": [
    "#Reshap the arrays (to 5 rows and 1 column)\n",
    "reshaped_array = energy_consumption.reshape((5,1))\n",
    "print(\"\\nReshaped Energy Consumption Array (5x1): \")\n",
    "print(reshaped_array)"
   ]
  },
  {
   "cell_type": "code",
   "execution_count": null,
   "id": "2c459cb9-ac90-40f9-9b99-8c513f56422b",
   "metadata": {},
   "outputs": [],
   "source": []
  }
 ],
 "metadata": {
  "kernelspec": {
   "display_name": "Python 3 (ipykernel)",
   "language": "python",
   "name": "python3"
  },
  "language_info": {
   "codemirror_mode": {
    "name": "ipython",
    "version": 3
   },
   "file_extension": ".py",
   "mimetype": "text/x-python",
   "name": "python",
   "nbconvert_exporter": "python",
   "pygments_lexer": "ipython3",
   "version": "3.11.4"
  }
 },
 "nbformat": 4,
 "nbformat_minor": 5
}
