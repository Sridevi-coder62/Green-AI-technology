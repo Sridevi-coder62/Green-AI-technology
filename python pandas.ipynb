{
 "cells": [
  {
   "cell_type": "code",
   "execution_count": 5,
   "id": "8a6faa9f-f4e4-4044-82a7-e2bde49c7c72",
   "metadata": {},
   "outputs": [
    {
     "name": "stdout",
     "output_type": "stream",
     "text": [
      "Series is:  Series([], dtype: object)\n",
      "Pandas Series :\n",
      " 0    Haritha\n",
      "1    Sridevi\n",
      "dtype: object\n"
     ]
    }
   ],
   "source": [
    "import pandas as pd\n",
    "import numpy as np\n",
    "ser=pd.Series()\n",
    "print(\"Series is: \",ser)\n",
    "data = np.array(['Haritha','Sridevi'])\n",
    "ser=pd.Series(data)\n",
    "print(\"Pandas Series :\\n\", ser)\n"
   ]
  },
  {
   "cell_type": "code",
   "execution_count": 7,
   "id": "dc124d45-e13f-4999-843f-83bbb8f2b52a",
   "metadata": {},
   "outputs": [],
   "source": [
    "#example 2\n",
    "\n",
    "import pandas as pd\n",
    "#Sample renewable energy sources data\n",
    "renewable_sources=[\"Solar\",\"Hydropower\",\"Wind\",\"Geothermal\",\"Biomass\"]\n",
    "\n",
    "#data set for green technology project data (for dataframe).\n",
    "\n",
    "data={\n",
    "    \"Project\": [\"Solar Farm A\", \"Hydropower Y\", \"Wind Turbine X\", \"Solar Roof Z\", \"Geothermal plant P\"],\n",
    "    \"Technology\": [\"Solar\", \"Hydropower\", \"Wind\", \"Solar\", \"Geothermal\"],\n",
    "    \"Capacity (MW)\": [150,300,200,50,100],\n",
    "    \"Cost (Million $)\": [200,400,350,100,250],\n",
    "    \"Location\": [\"California\", \"Texas\", \"Washington\", \"Nevada\", \"Idaho\"],\n",
    "    \"Completion Year\": [2023,2024,2022,2025,2023]\n",
    "}"
   ]
  },
  {
   "cell_type": "code",
   "execution_count": 9,
   "id": "53c7cd35-675d-4afb-9584-a25987cdcd2d",
   "metadata": {},
   "outputs": [
    {
     "name": "stdout",
     "output_type": "stream",
     "text": [
      "Renewable Energy Sources :\n",
      "0         Solar\n",
      "1    Hydropower\n",
      "2          Wind\n",
      "3    Geothermal\n",
      "4       Biomass\n",
      "dtype: object\n"
     ]
    }
   ],
   "source": [
    "#create a pandas series for renewable energy sources\n",
    "renewable_series = pd.Series(renewable_sources)\n",
    "\n",
    "#print the series\n",
    "\n",
    "print(\"Renewable Energy Sources :\")\n",
    "print(renewable_series)\n",
    "      "
   ]
  },
  {
   "cell_type": "code",
   "execution_count": 11,
   "id": "8a791143-1ef1-4ee3-8461-4df87fa98145",
   "metadata": {},
   "outputs": [
    {
     "name": "stdout",
     "output_type": "stream",
     "text": [
      "\n",
      "Green Technology Projects DataFrame: \n",
      "              Project  Technology  Capacity (MW)  Cost (Million $)  \\\n",
      "0        Solar Farm A       Solar            150               200   \n",
      "1        Hydropower Y  Hydropower            300               400   \n",
      "2      Wind Turbine X        Wind            200               350   \n",
      "3        Solar Roof Z       Solar             50               100   \n",
      "4  Geothermal plant P  Geothermal            100               250   \n",
      "\n",
      "     Location  Completion Year  \n",
      "0  California             2023  \n",
      "1       Texas             2024  \n",
      "2  Washington             2022  \n",
      "3      Nevada             2025  \n",
      "4       Idaho             2023  \n"
     ]
    }
   ],
   "source": [
    "#create a dataframe for green technology projects\n",
    "\n",
    "projects_df = pd.DataFrame(data)\n",
    "\n",
    "#print the dataframe\n",
    "print(\"\\nGreen Technology Projects DataFrame: \")\n",
    "print(projects_df)"
   ]
  },
  {
   "cell_type": "code",
   "execution_count": 12,
   "id": "e6281f8b-0a91-4c93-b3c2-161ac071ed25",
   "metadata": {},
   "outputs": [
    {
     "data": {
      "text/plain": [
       "0          Solar Farm A\n",
       "1          Hydropower Y\n",
       "2        Wind Turbine X\n",
       "3          Solar Roof Z\n",
       "4    Geothermal plant P\n",
       "Name: Project, dtype: object"
      ]
     },
     "execution_count": 12,
     "metadata": {},
     "output_type": "execute_result"
    }
   ],
   "source": [
    "#access on Project column\n",
    "projects_df['Project']"
   ]
  },
  {
   "cell_type": "code",
   "execution_count": 17,
   "id": "a4cac598-8bb1-4af7-8b8a-6129c2e11698",
   "metadata": {},
   "outputs": [
    {
     "name": "stdout",
     "output_type": "stream",
     "text": [
      "\n",
      " List of Technology: \n",
      "0         Solar\n",
      "1    Hydropower\n",
      "2          Wind\n",
      "3         Solar\n",
      "4    Geothermal\n",
      "Name: Technology, dtype: object\n"
     ]
    }
   ],
   "source": [
    "print(\"\\n List of Technology: \")\n",
    "print(projects_df[\"Technology\"])"
   ]
  },
  {
   "cell_type": "code",
   "execution_count": 18,
   "id": "6e63d6bd-0fb6-44c4-a67b-2b1477a3bdf5",
   "metadata": {},
   "outputs": [
    {
     "name": "stdout",
     "output_type": "stream",
     "text": [
      "\n",
      " Projects with Capacity Greater than 100 MW: \n",
      "          Project  Technology  Capacity (MW)  Cost (Million $)    Location  \\\n",
      "0    Solar Farm A       Solar            150               200  California   \n",
      "1    Hydropower Y  Hydropower            300               400       Texas   \n",
      "2  Wind Turbine X        Wind            200               350  Washington   \n",
      "\n",
      "   Completion Year  \n",
      "0             2023  \n",
      "1             2024  \n",
      "2             2022  \n"
     ]
    }
   ],
   "source": [
    "#filter projects with capacity greater than 100 MW\n",
    "high_capacity_projects = projects_df[projects_df[\"Capacity (MW)\"]>100]\n",
    "\n",
    "print(\"\\n Projects with Capacity Greater than 100 MW: \")\n",
    "print(high_capacity_projects)"
   ]
  },
  {
   "cell_type": "code",
   "execution_count": 19,
   "id": "4a52b102-0809-456d-ad44-529bea3a1827",
   "metadata": {},
   "outputs": [
    {
     "name": "stdout",
     "output_type": "stream",
     "text": [
      "\n",
      "DataFrame with Cost per MW: \n",
      "              Project  Technology  Capacity (MW)  Cost (Million $)  \\\n",
      "0        Solar Farm A       Solar            150               200   \n",
      "1        Hydropower Y  Hydropower            300               400   \n",
      "2      Wind Turbine X        Wind            200               350   \n",
      "3        Solar Roof Z       Solar             50               100   \n",
      "4  Geothermal plant P  Geothermal            100               250   \n",
      "\n",
      "     Location  Completion Year  Cost per MW  \n",
      "0  California             2023     1.333333  \n",
      "1       Texas             2024     1.333333  \n",
      "2  Washington             2022     1.750000  \n",
      "3      Nevada             2025     2.000000  \n",
      "4       Idaho             2023     2.500000  \n"
     ]
    }
   ],
   "source": [
    "#add a new column for cost(cost million/capacity)\n",
    "projects_df[\"Cost per MW\"] = projects_df[\"Cost (Million $)\"]/projects_df[\"Capacity (MW)\"]\n",
    "\n",
    "print(\"\\nDataFrame with Cost per MW: \")\n",
    "print(projects_df)"
   ]
  },
  {
   "cell_type": "code",
   "execution_count": 20,
   "id": "ee766e46-08da-4d79-b7e0-ac9e85079101",
   "metadata": {},
   "outputs": [
    {
     "name": "stdout",
     "output_type": "stream",
     "text": [
      "\n",
      "Total Capacity of all projects: 800 MW\n",
      "Total Cost of all Projects: $1300 million\n"
     ]
    }
   ],
   "source": [
    "#Aggregate the toptal capacity and cost\n",
    "total_capacity = projects_df[\"Capacity (MW)\"].sum()\n",
    "total_cost = projects_df[\"Cost (Million $)\"].sum()\n",
    "\n",
    "print(f\"\\nTotal Capacity of all projects: {total_capacity} MW\")\n",
    "print(f\"Total Cost of all Projects: ${total_cost} million\")"
   ]
  },
  {
   "cell_type": "code",
   "execution_count": 21,
   "id": "1d0fdf32-d3dc-4460-957d-ae05bb8793c3",
   "metadata": {},
   "outputs": [
    {
     "name": "stdout",
     "output_type": "stream",
     "text": [
      "\n",
      " Total Capacity by Technology: \n",
      "Technology\n",
      "Geothermal    100\n",
      "Hydropower    300\n",
      "Solar         200\n",
      "Wind          200\n",
      "Name: Capacity (MW), dtype: int64\n"
     ]
    }
   ],
   "source": [
    "#group by technology and calculate total capacity for each type\n",
    "grouped_data=projects_df.groupby(\"Technology\")[\"Capacity (MW)\"].sum()\n",
    "\n",
    "print(\"\\n Total Capacity by Technology: \")\n",
    "print(grouped_data)"
   ]
  },
  {
   "cell_type": "code",
   "execution_count": null,
   "id": "65481397-5887-44de-b132-dbaaf0988e1f",
   "metadata": {},
   "outputs": [],
   "source": []
  }
 ],
 "metadata": {
  "kernelspec": {
   "display_name": "Python 3 (ipykernel)",
   "language": "python",
   "name": "python3"
  },
  "language_info": {
   "codemirror_mode": {
    "name": "ipython",
    "version": 3
   },
   "file_extension": ".py",
   "mimetype": "text/x-python",
   "name": "python",
   "nbconvert_exporter": "python",
   "pygments_lexer": "ipython3",
   "version": "3.11.4"
  }
 },
 "nbformat": 4,
 "nbformat_minor": 5
}
