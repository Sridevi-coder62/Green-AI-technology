{
 "cells": [
  {
   "cell_type": "code",
   "execution_count": 1,
   "id": "31d6548e-cbd8-4616-a8ea-b8e1a5d5abd8",
   "metadata": {},
   "outputs": [
    {
     "name": "stdout",
     "output_type": "stream",
     "text": [
      "Hi Sridevi\n"
     ]
    }
   ],
   "source": [
    "print(\"Hi Sridevi\")\n"
   ]
  },
  {
   "cell_type": "code",
   "execution_count": 4,
   "id": "f7250ef6-caef-47b1-a497-5b4360c25368",
   "metadata": {},
   "outputs": [
    {
     "name": "stdout",
     "output_type": "stream",
     "text": [
      "correct\n",
      "hi\n"
     ]
    }
   ],
   "source": [
    "if 10>5:\n",
    "    print(\"correct\")\n",
    "print(\"hi\")"
   ]
  },
  {
   "cell_type": "code",
   "execution_count": 6,
   "id": "4f4be336-60e2-4b53-b2e2-8331deeea04e",
   "metadata": {},
   "outputs": [
    {
     "name": "stdout",
     "output_type": "stream",
     "text": [
      "Delhi 35.88 78\n"
     ]
    }
   ],
   "source": [
    "city_name=\"Delhi\"\n",
    "x=35.88\n",
    "y=78\n",
    "print(city_name,x,y)"
   ]
  },
  {
   "cell_type": "code",
   "execution_count": 8,
   "id": "f64b4dd3-b970-4d59-9a79-c6f3c9c28e53",
   "metadata": {},
   "outputs": [
    {
     "name": "stdout",
     "output_type": "stream",
     "text": [
      "1 2 3\n"
     ]
    }
   ],
   "source": [
    "x,y,z=1,2,3\n",
    "print(x,y,z)"
   ]
  },
  {
   "cell_type": "code",
   "execution_count": 9,
   "id": "dc5edda8-4104-4cd1-bd7f-1c6100464dfd",
   "metadata": {},
   "outputs": [
    {
     "name": "stdout",
     "output_type": "stream",
     "text": [
      "6\n"
     ]
    }
   ],
   "source": [
    "numbers=1,2,3\n",
    "a,b,c=numbers\n",
    "print(a+b+c)\n"
   ]
  },
  {
   "cell_type": "code",
   "execution_count": 10,
   "id": "f1699e81-f9c0-4282-a7f5-aaf59419cd34",
   "metadata": {},
   "outputs": [
    {
     "name": "stdout",
     "output_type": "stream",
     "text": [
      "City name is : Singapore\n"
     ]
    }
   ],
   "source": [
    "city_name=\"Singapore\"\n",
    "print(f\"City name is : {city_name}\")"
   ]
  },
  {
   "cell_type": "code",
   "execution_count": 11,
   "id": "740c4a81-90c1-4392-9b64-ffcb4df5634b",
   "metadata": {},
   "outputs": [
    {
     "name": "stdout",
     "output_type": "stream",
     "text": [
      "Sum of 10 and 5 is 15\n"
     ]
    }
   ],
   "source": [
    "a=10\n",
    "b=5\n",
    "print(f\"Sum of {a} and {b} is {a+b}\")"
   ]
  },
  {
   "cell_type": "code",
   "execution_count": 12,
   "id": "6c5ad1df-0e8f-44ca-8aa6-d2ffdb69d78b",
   "metadata": {},
   "outputs": [
    {
     "data": {
      "text/plain": [
       "int"
      ]
     },
     "execution_count": 12,
     "metadata": {},
     "output_type": "execute_result"
    }
   ],
   "source": [
    "type(a)"
   ]
  },
  {
   "cell_type": "code",
   "execution_count": 14,
   "id": "7271739d-375a-4a03-840d-9bc081307066",
   "metadata": {},
   "outputs": [
    {
     "data": {
      "text/plain": [
       "complex"
      ]
     },
     "execution_count": 14,
     "metadata": {},
     "output_type": "execute_result"
    }
   ],
   "source": [
    "c=5.8j+1\n",
    "type(c)"
   ]
  },
  {
   "cell_type": "code",
   "execution_count": 15,
   "id": "28c5db28-c408-46ae-b710-4b7e49b9d546",
   "metadata": {},
   "outputs": [
    {
     "data": {
      "text/plain": [
       "float"
      ]
     },
     "execution_count": 15,
     "metadata": {},
     "output_type": "execute_result"
    }
   ],
   "source": [
    "d=8.99\n",
    "type(d)"
   ]
  },
  {
   "cell_type": "code",
   "execution_count": 16,
   "id": "432be183-9e63-4021-8241-8b51c029d045",
   "metadata": {},
   "outputs": [
    {
     "name": "stdout",
     "output_type": "stream",
     "text": [
      "Temperature: 25\n"
     ]
    }
   ],
   "source": [
    "temperature=25\n",
    "print(f\"Temperature: {temperature}\")"
   ]
  },
  {
   "cell_type": "code",
   "execution_count": 17,
   "id": "85d9b1f9-c02c-43ce-8fa5-a955ae3170e9",
   "metadata": {},
   "outputs": [
    {
     "name": "stdout",
     "output_type": "stream",
     "text": [
      "Carbon Footprint: 500.75 kg CO2\n"
     ]
    }
   ],
   "source": [
    "carbon_footprint=500.75\n",
    "print(f\"Carbon Footprint: {carbon_footprint} kg CO2\")"
   ]
  },
  {
   "cell_type": "code",
   "execution_count": 18,
   "id": "2dd6c34a-8139-49a6-9a2f-a151866407b5",
   "metadata": {},
   "outputs": [
    {
     "data": {
      "text/plain": [
       "float"
      ]
     },
     "execution_count": 18,
     "metadata": {},
     "output_type": "execute_result"
    }
   ],
   "source": [
    "type(carbon_footprint)"
   ]
  },
  {
   "cell_type": "code",
   "execution_count": 19,
   "id": "6d8a417d-4d44-4d44-9398-72cf1e52272e",
   "metadata": {},
   "outputs": [
    {
     "name": "stdout",
     "output_type": "stream",
     "text": [
      "Is the city Sustainable? False\n"
     ]
    }
   ],
   "source": [
    "is_sustainable=carbon_footprint < 400 \n",
    "print (f\"Is the city Sustainable? {is_sustainable}\")"
   ]
  },
  {
   "cell_type": "code",
   "execution_count": 20,
   "id": "5c20c9e8-3297-4582-9fb8-a6dbc553e8df",
   "metadata": {},
   "outputs": [
    {
     "data": {
      "text/plain": [
       "1"
      ]
     },
     "execution_count": 20,
     "metadata": {},
     "output_type": "execute_result"
    }
   ],
   "source": [
    "x,y,z=1,2,3\n",
    "x"
   ]
  },
  {
   "cell_type": "code",
   "execution_count": 21,
   "id": "6bddfa97-878f-495d-a6a1-ea4c7f2df6f4",
   "metadata": {},
   "outputs": [
    {
     "data": {
      "text/plain": [
       "3"
      ]
     },
     "execution_count": 21,
     "metadata": {},
     "output_type": "execute_result"
    }
   ],
   "source": [
    "z"
   ]
  },
  {
   "cell_type": "code",
   "execution_count": 23,
   "id": "f2e3f31f-f4da-4d58-bb24-44ae79612c5a",
   "metadata": {},
   "outputs": [
    {
     "name": "stdout",
     "output_type": "stream",
     "text": [
      "Weekly temperature is: [25, 34, 89, 45, 13, 78, 28]\n"
     ]
    }
   ],
   "source": [
    "weekly_temp=[25,34,89,45,13,78,28]\n",
    "print(f\"Weekly temperature is: {weekly_temp}\")"
   ]
  },
  {
   "cell_type": "code",
   "execution_count": 24,
   "id": "481d3054-9958-4843-8cf3-a14f60004641",
   "metadata": {},
   "outputs": [
    {
     "data": {
      "text/plain": [
       "25"
      ]
     },
     "execution_count": 24,
     "metadata": {},
     "output_type": "execute_result"
    }
   ],
   "source": [
    "weekly_temp[0]"
   ]
  },
  {
   "cell_type": "code",
   "execution_count": 25,
   "id": "bb357ddd-f8e8-430c-825b-09a11c93f2d8",
   "metadata": {},
   "outputs": [
    {
     "data": {
      "text/plain": [
       "78"
      ]
     },
     "execution_count": 25,
     "metadata": {},
     "output_type": "execute_result"
    }
   ],
   "source": [
    "weekly_temp[5]"
   ]
  },
  {
   "cell_type": "code",
   "execution_count": 26,
   "id": "266bc0b2-2319-461a-84e8-52f30683ba09",
   "metadata": {},
   "outputs": [
    {
     "name": "stdout",
     "output_type": "stream",
     "text": [
      "City Data: {'city_name': 'Singapore', 'temperature': 25, 'carbon_footprint': 500.75, 'is_sustainable': False}\n"
     ]
    }
   ],
   "source": [
    "City_data={\n",
    "    \"city_name\":\"Singapore\",\n",
    "    \"temperature\":25,\n",
    "    \"carbon_footprint\":500.75,\n",
    "    \"is_sustainable\":False\n",
    "}\n",
    "print(f\"City Data: {City_data}\")"
   ]
  },
  {
   "cell_type": "code",
   "execution_count": 28,
   "id": "e70d38dc-90a4-4256-ab87-5529e51ac1a3",
   "metadata": {},
   "outputs": [
    {
     "name": "stdout",
     "output_type": "stream",
     "text": [
      "City name: Bangalore, Temperature: 39, Carbon Footprint: 600.9 kg CO2\n"
     ]
    }
   ],
   "source": [
    "city,temperature,carbon_fp=\"Bangalore\",39,600.9\n",
    "print(f\"City name: {city}, Temperature: {temperature}, Carbon Footprint: {carbon_fp} kg CO2\")"
   ]
  },
  {
   "cell_type": "code",
   "execution_count": 4,
   "id": "0e8709b1-2e8d-4ec1-9588-e537b4c2dc22",
   "metadata": {},
   "outputs": [],
   "source": [
    "def greet():\n",
    "    print(\"hii\")"
   ]
  },
  {
   "cell_type": "code",
   "execution_count": 5,
   "id": "acfd5c89-d7fd-4ccf-8ae2-22822299902e",
   "metadata": {},
   "outputs": [
    {
     "name": "stdout",
     "output_type": "stream",
     "text": [
      "hii\n"
     ]
    }
   ],
   "source": [
    "greet()"
   ]
  },
  {
   "cell_type": "code",
   "execution_count": 7,
   "id": "8f30bfba-ce36-4f04-a49b-bb76e57ec3ee",
   "metadata": {},
   "outputs": [
    {
     "name": "stdout",
     "output_type": "stream",
     "text": [
      "She loves Gokul\n"
     ]
    }
   ],
   "source": [
    "def Haritha():\n",
    "    print(\"She loves Gokul\")\n",
    "Haritha()"
   ]
  },
  {
   "cell_type": "code",
   "execution_count": 9,
   "id": "f2c3c2d6-7b03-4123-a2f7-ee23d404b84c",
   "metadata": {},
   "outputs": [
    {
     "name": "stdout",
     "output_type": "stream",
     "text": [
      "Cities with high temperature (>26): \n",
      "City B - 30 \n",
      "City E - 28 \n"
     ]
    }
   ],
   "source": [
    "#cretae a climate dataset list comprehension example\n",
    "climate_data=[\n",
    "    {\"city\":\"City A\", \"Temperature\":25, \"carbon_footprint\":500},\n",
    "    {\"city\":\"City B\", \"Temperature\":30, \"carbon_footprint\":350},\n",
    "    {\"city\":\"City C\", \"Temperature\":22, \"carbon_footprint\":600},\n",
    "    {\"city\":\"City D\", \"Temperature\":15, \"carbon_footprint\":200},\n",
    "    {\"city\":\"City E\", \"Temperature\":28, \"carbon_footprint\":450},\n",
    "]\n",
    "#create a threshold temp\n",
    "high_temp_threshold=26\n",
    "\n",
    "#print the cities having temp higher than threshold temp we can use list for this..\n",
    "\n",
    "high_temp_cities=[city for city in climate_data if city[\"Temperature\"]>high_temp_threshold]\n",
    "\n",
    "#print the result\n",
    "print(\"Cities with high temperature (>26): \")\n",
    "for city in high_temp_cities:\n",
    "    print(f\"{city['city']} - {city['Temperature']} \")\n",
    "\n"
   ]
  },
  {
   "cell_type": "code",
   "execution_count": 11,
   "id": "415209c6-e0c0-4ed6-af19-7e5770a96844",
   "metadata": {},
   "outputs": [
    {
     "name": "stdout",
     "output_type": "stream",
     "text": [
      "Average Carbon Footprint is : 420.00 kg co2\n"
     ]
    }
   ],
   "source": [
    "#initialise a variable to store total carbon footprint\n",
    "total_carbon=0\n",
    "\n",
    "#use for loop to go to each city in the dataset and add their carbon footprint\n",
    "for city in climate_data:\n",
    "    total_carbon+=city['carbon_footprint']\n",
    "    \n",
    "#calculate the average carbon footprint\n",
    "average_carbon_footprint=total_carbon/len(climate_data)\n",
    "\n",
    "#print the average result\n",
    "print(f\"Average Carbon Footprint is :{average_carbon_footprint: .2f} kg co2\")"
   ]
  },
  {
   "cell_type": "code",
   "execution_count": 13,
   "id": "1f12e894-9bed-4d5a-9cb9-2a8ed3a7323f",
   "metadata": {},
   "outputs": [
    {
     "name": "stdout",
     "output_type": "stream",
     "text": [
      "\n",
      " City with highest carbon footprint: \n",
      "City C - 600 kg CO2\n"
     ]
    }
   ],
   "source": [
    "#use max() function to find the city with highest carbon footprint\n",
    "highest_footprint_city = max(climate_data, key=lambda\n",
    "                             city: city[\"carbon_footprint\"])\n",
    "\n",
    "#print result\n",
    "print(f\"\\n City with highest carbon footprint: \")\n",
    "print(f\"{highest_footprint_city['city']} - {highest_footprint_city['carbon_footprint']} kg CO2\")"
   ]
  },
  {
   "cell_type": "code",
   "execution_count": null,
   "id": "fe92153f-0e75-4ccb-b8bb-d50ee662a1be",
   "metadata": {},
   "outputs": [],
   "source": []
  }
 ],
 "metadata": {
  "kernelspec": {
   "display_name": "Python 3 (ipykernel)",
   "language": "python",
   "name": "python3"
  },
  "language_info": {
   "codemirror_mode": {
    "name": "ipython",
    "version": 3
   },
   "file_extension": ".py",
   "mimetype": "text/x-python",
   "name": "python",
   "nbconvert_exporter": "python",
   "pygments_lexer": "ipython3",
   "version": "3.11.4"
  }
 },
 "nbformat": 4,
 "nbformat_minor": 5
}
